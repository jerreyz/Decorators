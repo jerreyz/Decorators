{
 "cells": [
  {
   "cell_type": "markdown",
   "metadata": {},
   "source": [
    "# DECORATORS PART 1: Theory\n"
   ]
  },
  {
   "cell_type": "markdown",
   "metadata": {},
   "source": [
    "`Decorators`provide a very useful method to add functionality to existing functions and classes.   \n",
    "Decorators are\n",
    "functions that wrap other functions or classes.\n",
    "One example for the use of decorator are static methods. Static methods could be function in the global scope\n",
    "but are defined inside a class. There is no `self` and no reference to the instance.  \n",
    "\n"
   ]
  },
  {
   "cell_type": "code",
   "execution_count": 51,
   "metadata": {},
   "outputs": [],
   "source": [
    "# level 1 @function\n",
    "def hello(func):\n",
    "    # Level 2 actual decorator\n",
    "    def call_func(*args, **kwargs):\n",
    "        # call func takes arguments of parents function and simply passes them through\n",
    "            \"\"\"Takes a arbitrary number of positional and keyword arguments.\"\"\"\n",
    "            print('Hello')\n",
    "            # Call original function and return its result.\n",
    "            return func(*args, **kwargs)\n",
    "    return call_func\n",
    "@hello\n",
    "def add(a,b):\n",
    "    return a+b\n",
    "\n",
    "add(1,2)"
   ]
  },
  {
   "cell_type": "markdown",
   "metadata": {},
   "source": [
    "# Class decorators \n",
    "It is strongly recommended that a function decorator always returns a function object and a class decorator always returns a class object.  \n",
    "A function decorator should typically either return a function that returns the result of the call to the original function and do\n",
    "something in addition or return the original function itself."
   ]
  },
  {
   "cell_type": "code",
   "execution_count": 64,
   "metadata": {},
   "outputs": [
    {
     "data": {
      "text/plain": [
       "'I am decorated.'"
      ]
     },
     "execution_count": 64,
     "metadata": {},
     "output_type": "execute_result"
    }
   ],
   "source": [
    "def mark(cls):\n",
    "    cls.decorated_str = 'I am decorated.'\n",
    "    return cls\n",
    "\n",
    "@mark\n",
    "class A(object):\n",
    "    pass\n",
    "A.decorated_str\n"
   ]
  },
  {
   "cell_type": "markdown",
   "metadata": {},
   "source": [
    "### Passing arguments to decorators \n",
    "\n"
   ]
  },
  {
   "cell_type": "code",
   "execution_count": 60,
   "metadata": {},
   "outputs": [
    {
     "name": "stdout",
     "output_type": "stream",
     "text": [
      "hello\n"
     ]
    },
    {
     "data": {
      "text/plain": [
       "3"
      ]
     },
     "execution_count": 60,
     "metadata": {},
     "output_type": "execute_result"
    }
   ],
   "source": [
    "# level 1 decorator arguments\n",
    "def say(text):\n",
    "    #level 2 input function\n",
    "    def _say(func):\n",
    "        #level 3 actual decorator\n",
    "        def call_func(*args, **kwargs):\n",
    "            print(text)\n",
    "            return func(*args, **kwargs)\n",
    "        return call_func\n",
    "    return _say\n",
    "\n",
    "@say(\"hello\")\n",
    "def add(a,b):\n",
    "    return a+b\n",
    "\n",
    "add(1,2)"
   ]
  },
  {
   "cell_type": "code",
   "execution_count": 28,
   "metadata": {},
   "outputs": [
    {
     "name": "stdout",
     "output_type": "stream",
     "text": [
      "Decorator arg1 = 3\n",
      "Decorator arg2 = Python\n",
      "Function doubler args: (5,) kwargs: {}\n",
      "10\n"
     ]
    }
   ],
   "source": [
    "def info(arg1, arg2):\n",
    "    print('Decorator arg1 = ' + str(arg1))\n",
    "    print('Decorator arg2 = ' + str(arg2))\n",
    " \n",
    "    def the_real_decorator(function):\n",
    " \n",
    "        def wrapper(*args, **kwargs):\n",
    "            print('Function {} args: {} kwargs: {}'.format(\n",
    "                function.__name__, str(args), str(kwargs)))\n",
    "            return function(*args, **kwargs)\n",
    " \n",
    "        return wrapper\n",
    " \n",
    "    return the_real_decorator\n",
    " \n",
    "@info(3, 'Python')\n",
    "def doubler(number):\n",
    "    return number * 2\n",
    " \n",
    "print(doubler(5))"
   ]
  },
  {
   "cell_type": "markdown",
   "metadata": {},
   "source": [
    "## Use case 1: static method of a class"
   ]
  },
  {
   "cell_type": "code",
   "execution_count": 29,
   "metadata": {},
   "outputs": [],
   "source": [
    "class staticClass(object):\n",
    "    @staticmethod\n",
    "    def func():\n",
    "        print(\"method used in static way\")"
   ]
  },
  {
   "cell_type": "code",
   "execution_count": 30,
   "metadata": {},
   "outputs": [
    {
     "name": "stdout",
     "output_type": "stream",
     "text": [
      "method used in static way\n"
     ]
    }
   ],
   "source": [
    "a = staticClass\n",
    "a.func()"
   ]
  },
  {
   "cell_type": "markdown",
   "metadata": {},
   "source": [
    "##  Usecase 2: formatting HTML strings"
   ]
  },
  {
   "cell_type": "code",
   "execution_count": 19,
   "metadata": {},
   "outputs": [
    {
     "name": "stdout",
     "output_type": "stream",
     "text": [
      "<b><i><begin>formatted text<end></i></b>\n"
     ]
    }
   ],
   "source": [
    "def bold(func):\n",
    "    def wrapper(*args):\n",
    "        return \"<b>\" + func(*args) + \"</b>\"\n",
    "    return wrapper\n",
    " \n",
    "def italic(func):\n",
    "    def wrapper(*args):\n",
    "        return \"<i>\" + func(*args) + \"</i>\"\n",
    "    return wrapper\n",
    " \n",
    "@bold\n",
    "@italic\n",
    "def formatted_text(message):\n",
    "    return \"<begin>\" +message + \"<end>\"\n",
    " \n",
    "print(formatted_text(\"formatted text\"))"
   ]
  },
  {
   "cell_type": "markdown",
   "metadata": {},
   "source": [
    "# Usecase 3 : dynamically adding functionality\n"
   ]
  },
  {
   "cell_type": "code",
   "execution_count": 34,
   "metadata": {},
   "outputs": [
    {
     "name": "stdout",
     "output_type": "stream",
     "text": [
      "in MyActualClass __init__()\n",
      "16\n",
      "10\n"
     ]
    }
   ],
   "source": [
    "def decorator(cls):\n",
    "    class Wrapper(cls):\n",
    "        def doubler(self, value):\n",
    "            return value * 2\n",
    "    return Wrapper\n",
    " \n",
    "@decorator\n",
    "class MyActualClass:\n",
    "    def __init__(self):\n",
    "        print('in MyActualClass __init__()')\n",
    " \n",
    "    def quad(self, value):\n",
    "        return value * 4\n",
    "obj = MyActualClass()\n",
    "print(obj.quad(4))\n",
    "print(obj.doubler(5))"
   ]
  },
  {
   "cell_type": "markdown",
   "metadata": {},
   "source": [
    "# Usecase 4 argument checking "
   ]
  },
  {
   "cell_type": "code",
   "execution_count": 69,
   "metadata": {},
   "outputs": [],
   "source": [
    "import functools\n",
    "\n",
    "# first layer decorator arguments\n",
    "def check(*argtypes):\n",
    "    \"\"\"Function argument type checker.\n",
    "    \"\"\"\n",
    "    # second layer return function\n",
    "    def _check(func):\n",
    "        \"\"\"Takes the function.\n",
    "        \"\"\"\n",
    "        @functools.wraps(func)\n",
    "        # third layer actual decorator\n",
    "        def __check(*args):\n",
    "            \"\"\"Takes the arguments\n",
    "            \"\"\"\n",
    "            if len(args) != len(argtypes):\n",
    "                msg = 'Expected %d but got %d arguments' % (len(argtypes),len(args))\n",
    "                raise TypeError(msg)\n",
    "            for arg, argtype in zip(args, argtypes):\n",
    "                if not isinstance(arg, argtype):\n",
    "                    msg = 'Expected %s but got %s' % (argtypes, tuple(type(arg) for arg in args))\n",
    "                    raise TypeError(msg)\n",
    "            return func(*args)\n",
    "        return __check\n",
    "    return _check\n",
    "@check(int, int)\n",
    "def add(x, y):\n",
    "    \"\"\"Add two integers.\"\"\"\n",
    "    return x + y"
   ]
  },
  {
   "cell_type": "code",
   "execution_count": 71,
   "metadata": {},
   "outputs": [
    {
     "ename": "TypeError",
     "evalue": "Expected (<class 'int'>, <class 'int'>) but got (<class 'str'>, <class 'int'>)",
     "output_type": "error",
     "traceback": [
      "\u001b[0;31m---------------------------------------------------------------------------\u001b[0m",
      "\u001b[0;31mTypeError\u001b[0m                                 Traceback (most recent call last)",
      "\u001b[0;32m<ipython-input-71-4485293661ad>\u001b[0m in \u001b[0;36m<module>\u001b[0;34m()\u001b[0m\n\u001b[0;32m----> 1\u001b[0;31m \u001b[0madd\u001b[0m\u001b[0;34m(\u001b[0m\u001b[0;34m\"pi\"\u001b[0m\u001b[0;34m,\u001b[0m\u001b[0;36m2\u001b[0m\u001b[0;34m)\u001b[0m\u001b[0;34m\u001b[0m\u001b[0m\n\u001b[0m",
      "\u001b[0;32m<ipython-input-69-18bf657e2598>\u001b[0m in \u001b[0;36m__check\u001b[0;34m(*args)\u001b[0m\n\u001b[1;32m     20\u001b[0m                 \u001b[0;32mif\u001b[0m \u001b[0;32mnot\u001b[0m \u001b[0misinstance\u001b[0m\u001b[0;34m(\u001b[0m\u001b[0marg\u001b[0m\u001b[0;34m,\u001b[0m \u001b[0margtype\u001b[0m\u001b[0;34m)\u001b[0m\u001b[0;34m:\u001b[0m\u001b[0;34m\u001b[0m\u001b[0m\n\u001b[1;32m     21\u001b[0m                     \u001b[0mmsg\u001b[0m \u001b[0;34m=\u001b[0m \u001b[0;34m'Expected %s but got %s'\u001b[0m \u001b[0;34m%\u001b[0m \u001b[0;34m(\u001b[0m\u001b[0margtypes\u001b[0m\u001b[0;34m,\u001b[0m \u001b[0mtuple\u001b[0m\u001b[0;34m(\u001b[0m\u001b[0mtype\u001b[0m\u001b[0;34m(\u001b[0m\u001b[0marg\u001b[0m\u001b[0;34m)\u001b[0m \u001b[0;32mfor\u001b[0m \u001b[0marg\u001b[0m \u001b[0;32min\u001b[0m \u001b[0margs\u001b[0m\u001b[0;34m)\u001b[0m\u001b[0;34m)\u001b[0m\u001b[0;34m\u001b[0m\u001b[0m\n\u001b[0;32m---> 22\u001b[0;31m                     \u001b[0;32mraise\u001b[0m \u001b[0mTypeError\u001b[0m\u001b[0;34m(\u001b[0m\u001b[0mmsg\u001b[0m\u001b[0;34m)\u001b[0m\u001b[0;34m\u001b[0m\u001b[0m\n\u001b[0m\u001b[1;32m     23\u001b[0m             \u001b[0;32mreturn\u001b[0m \u001b[0mfunc\u001b[0m\u001b[0;34m(\u001b[0m\u001b[0;34m*\u001b[0m\u001b[0margs\u001b[0m\u001b[0;34m)\u001b[0m\u001b[0;34m\u001b[0m\u001b[0m\n\u001b[1;32m     24\u001b[0m         \u001b[0;32mreturn\u001b[0m \u001b[0m__check\u001b[0m\u001b[0;34m\u001b[0m\u001b[0m\n",
      "\u001b[0;31mTypeError\u001b[0m: Expected (<class 'int'>, <class 'int'>) but got (<class 'str'>, <class 'int'>)"
     ]
    }
   ],
   "source": [
    "add(\"pi\",2)"
   ]
  },
  {
   "cell_type": "markdown",
   "metadata": {},
   "source": [
    "# Usecase 5 CACHING"
   ]
  },
  {
   "cell_type": "code",
   "execution_count": 81,
   "metadata": {},
   "outputs": [],
   "source": [
    "import functools\n",
    "import pickle\n",
    "def cached(func):\n",
    "    \"\"\"Decorator that caches.\"\"\"\n",
    "    cache = {}\n",
    "    @functools.wraps(func)\n",
    "    def _cached(*args, **kwargs):\n",
    "        \"\"\"Takes the arguments.\"\"\"\n",
    "        # dicts cannot be use as dict keys\n",
    "        # dumps are strings and can be used\n",
    "        key = pickle.dumps((args, kwargs))\n",
    "        print(key)\n",
    "        if key not in cache:\n",
    "             cache[key] = func(*args, **kwargs)\n",
    "        return cache[key]\n",
    "    return _cached"
   ]
  },
  {
   "cell_type": "markdown",
   "metadata": {},
   "source": [
    "Only the first call will print `calc`. All subsequent calls get the value from cache without newly calculating it:"
   ]
  },
  {
   "cell_type": "code",
   "execution_count": 83,
   "metadata": {},
   "outputs": [],
   "source": [
    "@cached\n",
    "def calculate_cached(a,b):\n",
    "    print(\"calculated\")\n",
    "    return(a*b)"
   ]
  },
  {
   "cell_type": "code",
   "execution_count": 93,
   "metadata": {},
   "outputs": [
    {
     "name": "stdout",
     "output_type": "stream",
     "text": [
      "b'\\x80\\x03K\\x03K\\x05\\x86q\\x00}q\\x01\\x86q\\x02.'\n",
      "b'\\x80\\x03K\\x03K\\x05\\x86q\\x00}q\\x01\\x86q\\x02.'\n"
     ]
    },
    {
     "data": {
      "text/plain": [
       "15"
      ]
     },
     "execution_count": 93,
     "metadata": {},
     "output_type": "execute_result"
    }
   ],
   "source": [
    "calculate_cached(3,5)\n",
    "# 2Nd time value is cached\n",
    "calculate_cached(3,5)\n"
   ]
  },
  {
   "cell_type": "code",
   "execution_count": null,
   "metadata": {},
   "outputs": [],
   "source": []
  }
 ],
 "metadata": {
  "kernelspec": {
   "display_name": "Python 3",
   "language": "python",
   "name": "python3"
  },
  "language_info": {
   "codemirror_mode": {
    "name": "ipython",
    "version": 3
   },
   "file_extension": ".py",
   "mimetype": "text/x-python",
   "name": "python",
   "nbconvert_exporter": "python",
   "pygments_lexer": "ipython3",
   "version": "3.6.0"
  }
 },
 "nbformat": 4,
 "nbformat_minor": 2
}
